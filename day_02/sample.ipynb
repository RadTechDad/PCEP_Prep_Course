{
 "cells": [
  {
   "cell_type": "code",
   "execution_count": 1,
   "metadata": {
    "vscode": {
     "languageId": "python"
    }
   },
   "outputs": [
    {
     "name": "stdout",
     "output_type": "stream",
     "text": [
      "Happy Halloween!\n"
     ]
    }
   ],
   "source": [
    "print(\"Happy Halloween!\")"
   ]
  },
  {
   "cell_type": "code",
   "execution_count": 2,
   "metadata": {
    "vscode": {
     "languageId": "python"
    }
   },
   "outputs": [
    {
     "name": "stdout",
     "output_type": "stream",
     "text": [
      "Hello, World!\n"
     ]
    }
   ],
   "source": [
    "print(\"Hello, World!\")\n",
    "temp = 1"
   ]
  },
  {
   "cell_type": "code",
   "execution_count": 3,
   "metadata": {
    "vscode": {
     "languageId": "python"
    }
   },
   "outputs": [
    {
     "name": "stdout",
     "output_type": "stream",
     "text": [
      "Addiiton of 1 and 2 is:  3\n",
      "Subtraction of 1 and 2 is:  -1\n",
      "Multiplication of 1 and 2 is:  2\n",
      "Division of 1 and 2 is:  0.5\n",
      "Exponent of 1 and 2 is:  1\n"
     ]
    }
   ],
   "source": [
    "print(\"Addiiton of 1 and 2 is: \", 1 + 2)\n",
    "print(\"Subtraction of 1 and 2 is: \", 1 - 2)\n",
    "print(\"Multiplication of 1 and 2 is: \", 1 * 2)\n",
    "print(\"Division of 1 and 2 is: \", 1 / 2)\n",
    "print(\"Exponent of 1 and 2 is: \", 1 ** 2) # ^"
   ]
  }
 ],
 "metadata": {
  "kernelspec": {
   "display_name": "Mojo",
   "language": "mojo",
   "name": "mojo-jupyter-kernel"
  },
  "language_info": {
   "codemirror_mode": {
    "name": "mojo"
   },
   "file_extension": ".mojo",
   "mimetype": "text/x-mojo",
   "name": "mojo"
  }
 },
 "nbformat": 4,
 "nbformat_minor": 2
}
